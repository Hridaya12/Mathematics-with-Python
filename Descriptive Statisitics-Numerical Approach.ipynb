{
  "cells": [
    {
      "cell_type": "markdown",
      "metadata": {
        "id": "4-KGvqx6B26z"
      },
      "source": [
        "# Section-1: python basics"
      ]
    },
    {
      "cell_type": "markdown",
      "metadata": {
        "id": "2VZo7I-QCK5i"
      },
      "source": [
        "### Arithematic Operations in Python:\n",
        "Python supports the usual arithmetic operators: + (addition), * (multiplication), / (division), ** (power), // (integer division).\n",
        "\n",
        "Questions:\n",
        "\n",
        "1) Define and store a number/integer in a variable x.\n",
        "\n",
        "2) Print the type of variable x.\n",
        "\n",
        "3) Add 2 to given variable x.\n",
        "\n",
        "4) Subtract 3 from varaible x.\n",
        "\n",
        "5) Multiply the variable x with 2.\n",
        "\n",
        "6) Find the power 2 or exponenetial of the varaible x.\n"
      ]
    },
    {
      "cell_type": "code",
      "execution_count": null,
      "metadata": {
        "colab": {
          "base_uri": "https://localhost:8080/"
        },
        "id": "y3MQSYjrB-ML",
        "outputId": "57b7649f-a2cc-46b5-9540-2fb5eae6da85"
      },
      "outputs": [
        {
          "name": "stdout",
          "output_type": "stream",
          "text": [
            "<class 'int'>\n",
            "12\n",
            "7\n",
            "20\n",
            "100\n",
            "22026.465794806718\n"
          ]
        }
      ],
      "source": [
        "# Your solutions here:\n",
        "x = 10\n",
        "print(type(x))\n",
        "print(x + 2)\n",
        "print(x -3)\n",
        "print(x * 2)\n",
        "import math\n",
        "print(x*x)\n",
        "print(math.exp(x))\n"
      ]
    },
    {
      "cell_type": "markdown",
      "metadata": {
        "id": "Na5fLImHDNdF"
      },
      "source": [
        "###Strings in Python:\n",
        "Questions:\n",
        "\n",
        "1) Define a strings \" hello\"  and store in the variable.\n",
        "\n",
        "2) Concatenate the strings \"world\" with above strings and store it in the new variable.\n",
        "\n",
        "3) Convert the strings\"hello\" in capital or convert it into uppercase.\n",
        "\n",
        "4) Right justify a string, \"hello\" i.e. add a spce in the right of the string.\n",
        "\n",
        "5) Replace the letter \"e\" from the string \"hello\" with \"a\".\n"
      ]
    },
    {
      "cell_type": "code",
      "execution_count": null,
      "metadata": {
        "colab": {
          "base_uri": "https://localhost:8080/"
        },
        "id": "J4hjv-p1Dd9J",
        "outputId": "00bf5a8c-d877-4455-8c76-ceec9233e0ae"
      },
      "outputs": [
        {
          "name": "stdout",
          "output_type": "stream",
          "text": [
            "helloworld\n",
            "HELLO\n",
            " hello\n",
            "hallo\n"
          ]
        }
      ],
      "source": [
        "# Your solutions here:\n",
        "var = \"hello\"\n",
        "var2 = var + \"world\"\n",
        "print(var2)\n",
        "print(var.upper())\n",
        "print(\" \" + var)\n",
        "print(var.replace(\"e\",\"a\"))"
      ]
    },
    {
      "cell_type": "markdown",
      "metadata": {
        "id": "p9Tqpo1_DsKu"
      },
      "source": [
        "## Some basic data structure in Pyhon:\n"
      ]
    },
    {
      "cell_type": "markdown",
      "metadata": {
        "id": "dMy088a_ELNV"
      },
      "source": [
        "### Lists:\n",
        "A list is the python equvalent of an array, but is resizeanle and can contain elemements of different types:"
      ]
    },
    {
      "cell_type": "code",
      "execution_count": null,
      "metadata": {
        "colab": {
          "base_uri": "https://localhost:8080/"
        },
        "id": "OqlAt4l8DysZ",
        "outputId": "547bf11b-5b7f-4fc4-eb71-49eb50cbf0fb"
      },
      "outputs": [
        {
          "name": "stdout",
          "output_type": "stream",
          "text": [
            "[3, 1, 2]\n"
          ]
        }
      ],
      "source": [
        "# Create a list:\n",
        "x = [3, 1, 2]\n",
        "# print whole list.\n",
        "print(x)"
      ]
    },
    {
      "cell_type": "code",
      "execution_count": null,
      "metadata": {
        "colab": {
          "base_uri": "https://localhost:8080/"
        },
        "id": "y7Z4HdqPFCBs",
        "outputId": "e7a4bc1a-215d-42ed-f3da-4e6a6036e96b"
      },
      "outputs": [
        {
          "name": "stdout",
          "output_type": "stream",
          "text": [
            "first\n",
            "3 1 2\n"
          ]
        }
      ],
      "source": [
        "# Print first and list element of the list x.\n",
        "# your code here:\n",
        "print(\"first\")\n",
        "print(*x)\n"
      ]
    },
    {
      "cell_type": "code",
      "execution_count": null,
      "metadata": {
        "colab": {
          "base_uri": "https://localhost:8080/"
        },
        "id": "qjSf5cLUFIY9",
        "outputId": "53629a6d-73ea-4aa7-fb81-97a023069c74"
      },
      "outputs": [
        {
          "name": "stdout",
          "output_type": "stream",
          "text": [
            "[3, 1, 2, 'foo', 'hello']\n"
          ]
        }
      ],
      "source": [
        "# List can take elements of different types, add \"hello\" in list x.\n",
        "# your code here:\n",
        "x.append('foo')\n",
        "x.append('hello')\n",
        "print(x)"
      ]
    },
    {
      "cell_type": "markdown",
      "metadata": {
        "id": "-mYdi1ZGF1po"
      },
      "source": [
        "Questions:\n",
        "\n",
        "Write a program that add two list indexwise:\n",
        "\n",
        "Inputs: \n",
        "\n",
        "list1 = [\"T\", \"i\" , \"a\" , \"appl\"]\n",
        "\n",
        "list2 = [\"his\",  \"s\",  \"n\" , \"e\"]\n",
        "\n",
        "Output:\n",
        "\n",
        "newlist = [\"This\" , \"is\" , \"an\", \"apple\"]"
      ]
    },
    {
      "cell_type": "code",
      "execution_count": null,
      "metadata": {
        "colab": {
          "base_uri": "https://localhost:8080/"
        },
        "id": "Yc50xfJWFTT7",
        "outputId": "be71b0e9-d850-4ee9-bfea-38ea69073d55"
      },
      "outputs": [
        {
          "name": "stdout",
          "output_type": "stream",
          "text": [
            "['This', 'is', 'an', 'apple']\n"
          ]
        }
      ],
      "source": [
        "# your solution here\n",
        "list1 = [\"T\", \"i\" , \"a\" , \"appl\"]\n",
        "list2 = [\"his\", \"s\", \"n\" , \"e\"]\n",
        "newlist =[]\n",
        "\n",
        "for index in range(len(list1)):\n",
        "    value = list1[index] + list2[index]\n",
        "    newlist.append(value)\n",
        "\n",
        "print (newlist)\n"
      ]
    },
    {
      "cell_type": "markdown",
      "metadata": {
        "id": "AtNKEsK-GF4m"
      },
      "source": [
        "Write a program to remove a value 3 with 6 in the following lists.\n",
        "\n",
        "Input:\n",
        "\n",
        "list2 = [5,3, 7, 8]\n",
        "\n",
        "Output:\n",
        "\n",
        "newlist = [5, 6, 7, 8]"
      ]
    },
    {
      "cell_type": "code",
      "execution_count": null,
      "metadata": {
        "colab": {
          "base_uri": "https://localhost:8080/"
        },
        "id": "aYqUaWiqGLM9",
        "outputId": "adcce1ba-394f-4787-a36d-345b1104d90c"
      },
      "outputs": [
        {
          "data": {
            "text/plain": [
              "[5, 6, 7, 8]"
            ]
          },
          "execution_count": 8,
          "metadata": {},
          "output_type": "execute_result"
        }
      ],
      "source": [
        "# your solutions here\n",
        "list2 = [5, 3, 7, 8]\n",
        "list2[1] = 6\n",
        "list2\n"
      ]
    },
    {
      "cell_type": "markdown",
      "metadata": {
        "id": "_cqHofmSGRrK"
      },
      "source": [
        "###List Slicing:\n",
        "Questions:\n",
        "\n",
        "1) Given the list nums.\n",
        "  *   Slice from index 2 - 4.\n",
        "  *   Slice from index 2 - end.\n",
        "  *   Slice from start to index 2.\n",
        "  *   Assign a new sublist to a slice.\n",
        "\n",
        "\n",
        "\n",
        "\n",
        "  \n",
        "    "
      ]
    },
    {
      "cell_type": "code",
      "execution_count": null,
      "metadata": {
        "colab": {
          "base_uri": "https://localhost:8080/"
        },
        "id": "mjaar3ofGNTO",
        "outputId": "774f4576-6bf5-4e6b-9f13-f7a8a0683709"
      },
      "outputs": [
        {
          "name": "stdout",
          "output_type": "stream",
          "text": [
            "[0, 1, 2, 3, 4]\n",
            "[2, 3]\n",
            "[2, 3, 4]\n",
            "[0, 1]\n",
            "[0, 9, 7, 4]\n"
          ]
        }
      ],
      "source": [
        "nums = list(range(5))\n",
        "# your solutions here:\n",
        "nums = list(range(5))\n",
        "print(nums)\n",
        "# your solutions here:\n",
        "print(nums[2:4])\n",
        "print(nums[2:])\n",
        "print(nums[:2])\n",
        "nums[1:4] = [9, 7]\n",
        "print(nums)"
      ]
    },
    {
      "cell_type": "markdown",
      "metadata": {
        "id": "rgjUofVMICk5"
      },
      "source": [
        "### Dicitionary:"
      ]
    },
    {
      "cell_type": "markdown",
      "metadata": {
        "id": "CUjzB4LaIFmY"
      },
      "source": [
        "Questions:\n",
        "\n",
        "1) Create at lesat two  dicitionary of your choice, with minimum three keys and three values.\n",
        "\n",
        "2) Concatenate the above created dicitionary into one dicitionary.\n",
        "\n",
        "3) Write a program to check whether a key is present in dictionary or not.\n"
      ]
    },
    {
      "cell_type": "code",
      "execution_count": null,
      "metadata": {
        "colab": {
          "base_uri": "https://localhost:8080/"
        },
        "id": "C1y3QZYdH_Ds",
        "outputId": "a10a2f0b-70cc-423a-b7ca-f6e03382b310"
      },
      "outputs": [
        {
          "name": "stdout",
          "output_type": "stream",
          "text": [
            "{'Hridaya': 15, 'Biwas': 10, 'Sakar': 12}\n",
            "{'Messi': 18, 'Ozil': 20, 'Neymar': 16}\n",
            "{'Hridaya': 15, 'Biwas': 10, 'Sakar': 12, 'Messi': 18, 'Ozil': 20, 'Neymar': 16}\n",
            "Enter the key you want to check: Hridaya\n",
            "Present\n"
          ]
        }
      ],
      "source": [
        "# your solutions here:\n",
        "dict1 = {'Hridaya': 15, 'Biwas': 10, 'Sakar' : 12 }\n",
        "dict2 = {'Messi': 18,'Ozil': 20,'Neymar' : 16 }\n",
        "\n",
        "print(dict1)\n",
        "print(dict2)\n",
        "\n",
        "dict1.update(dict2)\n",
        "print(dict1)\n",
        "\n",
        "def checkKey(dict1, key):\n",
        "    if key in dict1.keys():\n",
        "        print(\"Present\")\n",
        "\n",
        "    else:\n",
        "        print(\"Not present\")\n",
        "         \n",
        "key = input('Enter the key you want to check: ')\n",
        "checkKey(dict1, key)\n"
      ]
    },
    {
      "cell_type": "markdown",
      "metadata": {
        "id": "L4GxF1ytIUqo"
      },
      "source": [
        "### Functions and Conditionals\n"
      ]
    },
    {
      "cell_type": "markdown",
      "metadata": {
        "id": "zrW_f18jJScN"
      },
      "source": [
        "Questions:\n",
        "\n",
        "1) Create a function, which checks a number and return \"positive\" if number is more than 3 else return \"negative\"\n",
        "\n",
        "2) Creata a function to return square of input.\n"
      ]
    },
    {
      "cell_type": "code",
      "execution_count": null,
      "metadata": {
        "colab": {
          "base_uri": "https://localhost:8080/"
        },
        "id": "zkrIcrhrJLIM",
        "outputId": "ef8dd77e-7abd-4793-cf5a-24b31ddca7e8"
      },
      "outputs": [
        {
          "name": "stdout",
          "output_type": "stream",
          "text": [
            "Enter the number: 4\n",
            "positive\n"
          ]
        }
      ],
      "source": [
        "def sign(x):\n",
        "  \"\"\"\n",
        "  x: is a input to be checked.\n",
        "  \"\"\"\n",
        "  # your solutions here:\n",
        "  if x>3:\n",
        "    return \"positive\"\n",
        "  else:\n",
        "    return \"negative\"\n",
        "  \n",
        "x = int(input(\"Enter the number: \"))\n",
        "print(sign(x))\n",
        "  \n",
        "  "
      ]
    },
    {
      "cell_type": "code",
      "execution_count": null,
      "metadata": {
        "colab": {
          "base_uri": "https://localhost:8080/"
        },
        "id": "sQTx_pjDKBAc",
        "outputId": "44ca81bf-cb67-4595-ea0b-b837d784d200"
      },
      "outputs": [
        {
          "name": "stdout",
          "output_type": "stream",
          "text": [
            "negative\n",
            "negative\n",
            "positive\n"
          ]
        }
      ],
      "source": [
        "# Check the solutions\n",
        "for x in [-1, 0, 4]:\n",
        "    print(sign(x))"
      ]
    },
    {
      "cell_type": "code",
      "execution_count": null,
      "metadata": {
        "colab": {
          "base_uri": "https://localhost:8080/"
        },
        "id": "8VWuznDBJkqc",
        "outputId": "ae8ff030-1ba5-4137-a382-f36b30bcd4ff"
      },
      "outputs": [
        {
          "name": "stdout",
          "output_type": "stream",
          "text": [
            "Enter the number: 4\n",
            "16\n"
          ]
        }
      ],
      "source": [
        "# your solutions for Question 2.\n",
        "def square(y):\n",
        "  return y * y\n",
        "y = int(input(\"Enter the number: \"))\n",
        "print(square(y))"
      ]
    }
  ],
  "metadata": {
    "colab": {
      "provenance": []
    },
    "kernelspec": {
      "display_name": "Python 3",
      "name": "python3"
    },
    "language_info": {
      "name": "python"
    }
  },
  "nbformat": 4,
  "nbformat_minor": 0
}
